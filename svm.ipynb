{
 "cells": [
  {
   "cell_type": "code",
   "execution_count": 9,
   "id": "f3d50460-493b-4d58-925b-ac37f7b1ec05",
   "metadata": {},
   "outputs": [],
   "source": [
    "# 라이브러리 호출\n",
    "\n",
    "from sklearn import svm\n",
    "from sklearn import metrics\n",
    "from sklearn import datasets\n",
    "from sklearn import model_selection\n",
    "from sklearn.svm import SVC\n",
    "import tensorflow as tf\n",
    "import os\n",
    "\n",
    "# 기본값 0 모든 로그가 표시됨\n",
    "# 1 : INFO 로그를 필터링\n",
    "# 2 : WARNING 로그를 필터링\n",
    "# 3 : ERROR 로그를 추라고 필터링\n",
    "os.environ['TF_CPP_MIN_LOG_LEVEL'] = '3'\n",
    "# os.environ는 환경변수을 담는것이다.\n",
    "# TF_CPP_MIN_LOG_LEVEL는 의 숫자와 같은 로그 레벨을 제어하는데 사용\n",
    "#로그 메세지을 출력하는 것을 제어함"
   ]
  },
  {
   "cell_type": "code",
   "execution_count": 10,
   "id": "217fab4f-c37e-4c4f-b4af-ea017e66a8e0",
   "metadata": {},
   "outputs": [],
   "source": [
    "# iris 데이터를 준비하고 훈련과 테스트 데이터셋으로 분리\n",
    "\n",
    "iris = datasets.load_iris()\n",
    "# .load_iris()는 학습 또는 평가을 하는데 사용한다.\n",
    "X_train, X_test, y_train, y_test = model_selection.train_test_split(\n",
    "    # X_tiain X_test y_train y_test에 아래와 같이 정보을 분할해 저장한다.\n",
    "                                    iris.data,\n",
    "#  꽃의 측정값을 포함하는 특징 데이터입니다\n",
    "                                    iris.target,\n",
    "# 데이터의 품종 정보를 나타내는 레이블 데이터입니다. \n",
    "                                    test_size=0.6,\n",
    "    # test 데이터에 60% 학습 데이터을 40%로 나눈다.\n",
    "                                    random_state=42)\n",
    "#난수을 42로 정한다."
   ]
  },
  {
   "cell_type": "code",
   "execution_count": 11,
   "id": "394ea902-1ee3-416f-b391-5fe71fb47fcf",
   "metadata": {},
   "outputs": [
    {
     "name": "stdout",
     "output_type": "stream",
     "text": [
      "정확도 : 0.988889\n"
     ]
    }
   ],
   "source": [
    "# SVM 모델에 대한 정확도\n",
    "\n",
    "svm = SVC(kernel='linear', C=1.0, gamma=0.5)\n",
    "# kernel의 linear는 선형적으로 분리하도록 설정하는것임\n",
    "# C는 (정규화)매개변수을 설정하는것이다.\n",
    "# gamma는 커널함수에 값을 설정함\n",
    "#\n",
    "svm.fit(X_train, y_train)\n",
    "# 위의 정보로 훈련 시킴\n",
    "predictions = svm.predict(X_test)\n",
    "# 예측값을 구함\n",
    "score = metrics.accuracy_score(y_test, predictions)\n",
    "# metrics는 정확도을 구하는 함수이다.\n",
    "# accuracy_score()는 실제값과 예측값의 정확도을 구함\n",
    "print('정확도 : {0:f}'.format(score))"
   ]
  },
  {
   "cell_type": "code",
   "execution_count": null,
   "id": "d0eafe0d-b7d4-4594-a78c-1fc6fb24ded7",
   "metadata": {},
   "outputs": [],
   "source": []
  }
 ],
 "metadata": {
  "kernelspec": {
   "display_name": "Python 3 (ipykernel)",
   "language": "python",
   "name": "python3"
  },
  "language_info": {
   "codemirror_mode": {
    "name": "ipython",
    "version": 3
   },
   "file_extension": ".py",
   "mimetype": "text/x-python",
   "name": "python",
   "nbconvert_exporter": "python",
   "pygments_lexer": "ipython3",
   "version": "3.10.9"
  }
 },
 "nbformat": 4,
 "nbformat_minor": 5
}
