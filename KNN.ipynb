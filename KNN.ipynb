{
 "cells": [
  {
   "cell_type": "code",
   "execution_count": 2,
   "id": "841e3079-c1e6-4d36-84f9-8e5016353c88",
   "metadata": {},
   "outputs": [],
   "source": [
    "# 라이브러리 호출 및 데이터 준비\n",
    "\n",
    "import numpy as np # 백터 및 행렬의 연산 처리를 위한 라이브러리\n",
    "import pandas as pd # 데이터 분석 및 조작을 위한 라이브러리\n",
    "import matplotlib.pyplot as plt # 데이터를 차트나 플롯(plot)으로 그려 주는 라이브러리\n",
    "from sklearn import metrics # 모델 성능 평가\n",
    "\n",
    "names = ['sepal-length', 'sepal-width', 'petal-length', 'petal-width', 'Class'] # 데이터셋에 열 이름 할당\n",
    "\n",
    "dataset = pd.read_csv('data/ch3/iris.data', names=names) # 데이터를 판다스 데이터프레임(DataFrame)에 저장, 경로는 수정해서 진행\n",
    "#  names=names는 열의 이름을 불러오는것이 아닌 열의 이름을 정해주는 것이다."
   ]
  },
  {
   "cell_type": "code",
   "execution_count": 7,
   "id": "0de87b11-3692-4006-8d77-7e013bb1dc16",
   "metadata": {},
   "outputs": [],
   "source": [
    "# 훈련과 테스트 데이터셋 분리\n",
    "\n",
    "X = dataset.iloc[:, :-1].values # 모든 행을 사용하지만 열은 뒤에서 하나를 뺸 값을 가져와서 X에 저장\n",
    "y = dataset.iloc[:, 4].values # 모든 행을 사용하지만 열은 앞에서 다섯 번째 값만 가져와서 y에 저장\n",
    "\n",
    "from sklearn.model_selection import train_test_split\n",
    "# X,y를 사용하여 훈련과 테스트 데이터셋으로 분리하며, 테스트 세트의 비율은 20%만 사용\n",
    "X_train, X_test, y_train, y_test = train_test_split(X, y, test_size=0.20)\n",
    "\n",
    "from sklearn.preprocessing import StandardScaler\n",
    "s = StandardScaler() # 특성 스케일링(scaling), 평균이 0, 표준편차가 1이 되도록 반환\n",
    "s.fit(X_train) # 훈련 데이터에 대해 적합화\n",
    "# 평균과 표준편차을 구해 StandardScaler로 평균0으로 만들고 표준편자을 1로 만드는것이다.\n",
    "\n",
    "X_train = s.transform(X_train) # 훈련 데이터를 스케일링 처리\n",
    "X_test = s.transform(X_test) # 테스트 데이터를 스케일링 처리\n",
    "# 위에 있는것의 변수의 정보을 평균을 0으로 만들고 표준편차을 1로 만든것이다."
   ]
  },
  {
   "cell_type": "code",
   "execution_count": 9,
   "id": "4e7c9c68-5c97-47bd-88ff-65fa9d96f431",
   "metadata": {},
   "outputs": [
    {
     "data": {
      "text/plain": [
       "KNeighborsClassifier(n_neighbors=50)"
      ]
     },
     "execution_count": 9,
     "metadata": {},
     "output_type": "execute_result"
    }
   ],
   "source": [
    "# 모델 생성 및 훈련\n",
    "\n",
    "from sklearn.neighbors import KNeighborsClassifier\n",
    "knn = KNeighborsClassifier(n_neighbors=50)\n",
    "# n_neighbors=는 이웃의 개수을 정하는것이고\n",
    "# 이웃이라는 것은 주어진 값에서 가까이 있는 데이터 포인트이다\n",
    "knn.fit(X_train, y_train)\n",
    "#객체에 X_train, y_train값을 훈련 시키는것이다."
   ]
  },
  {
   "cell_type": "code",
   "execution_count": 11,
   "id": "ef8432c5-2377-4598-9c6a-0630ac864160",
   "metadata": {},
   "outputs": [
    {
     "name": "stdout",
     "output_type": "stream",
     "text": [
      "정확도 : 0.8666666666666667\n"
     ]
    }
   ],
   "source": [
    "# 모델 정확도\n",
    "\n",
    "from sklearn.metrics import accuracy_score # 정확도 평가 정답값 배열과 예측값 배열을 입력\n",
    "y_pred = knn.predict(X_test)\n",
    "# X_test의 예측값을 만들어 y_pred에 담는다.\n",
    "print(\"정확도 : {}\".format(accuracy_score(y_test, y_pred)))\n",
    "# .format()는 {}으로 구간을 정하고 구간에 값을 넣는다.\n",
    "# accuracy_score()는 실제값과 예측값을 주어 정확도을 구한다."
   ]
  },
  {
   "cell_type": "code",
   "execution_count": 21,
   "id": "b7a07607-358e-4eea-b63b-a091ed72f097",
   "metadata": {},
   "outputs": [
    {
     "name": "stdout",
     "output_type": "stream",
     "text": [
      "[0.96666667 0.         0.         0.         0.         0.\n",
      " 0.         0.         0.         0.        ]\n",
      "[0.96666667 0.96666667 0.         0.         0.         0.\n",
      " 0.         0.         0.         0.        ]\n",
      "[0.96666667 0.96666667 0.96666667 0.         0.         0.\n",
      " 0.         0.         0.         0.        ]\n",
      "[0.96666667 0.96666667 0.96666667 1.         0.         0.\n",
      " 0.         0.         0.         0.        ]\n",
      "[0.96666667 0.96666667 0.96666667 1.         1.         0.\n",
      " 0.         0.         0.         0.        ]\n",
      "[0.96666667 0.96666667 0.96666667 1.         1.         1.\n",
      " 0.         0.         0.         0.        ]\n",
      "[0.96666667 0.96666667 0.96666667 1.         1.         1.\n",
      " 0.96666667 0.         0.         0.        ]\n",
      "[0.96666667 0.96666667 0.96666667 1.         1.         1.\n",
      " 0.96666667 1.         0.         0.        ]\n",
      "[0.96666667 0.96666667 0.96666667 1.         1.         1.\n",
      " 0.96666667 1.         0.96666667 0.        ]\n",
      "[0.96666667 0.96666667 0.96666667 1.         1.         1.\n",
      " 0.96666667 1.         0.96666667 1.        ]\n",
      "정확도 1.0 으로 최적의 k는 4 입니다\n"
     ]
    }
   ],
   "source": [
    "k = 10\n",
    "# k는 이웃을 개수을 뜻함\n",
    "acc_array = np.zeros(k)\n",
    "# np.zeros()는 ()에 값을 정한 만큼 길이을 정함\n",
    "for k in np.arange(1, k+1, 1):\n",
    "    classifier = KNeighborsClassifier(n_neighbors=k).fit(X_train, y_train)\n",
    "    # k는 이웃의 개수을 뜻하고 .fit(X_train, y_train)는 변수의 정보로 모델을 훈련한다.\n",
    "    y_pred = classifier.predict(X_test)\n",
    "    #classifier이라는 훈련 시킨 모델을 X_test라는 정보로 예측값을 구한다\n",
    "    acc = metrics.accuracy_score(y_test, y_pred)\n",
    "    # metrics.라는 것은 분류모델의 정확도을 구한는 함수이다\n",
    "    #accuracy_score()는 실제값과 예측값을 입력받아 정확도을 구하는 함수이다.\n",
    "    acc_array[k-1] = acc\n",
    "    #그런게 구한 정확도을 acc_array의 배열에 넣는다.\n",
    "    \n",
    "max_acc = np.amax(acc_array)\n",
    "# np.amax()는 배열에서 최대값을 구하는것이다.\n",
    "acc_list = list(acc_array)\n",
    "# acc_array을 리스트로 바꾸는것은 편의성과 호환성때문에 사용한다.\n",
    "k = acc_list.index(max_acc)\n",
    "# k는 acc_array을list로 바꾼것을 최대값의 인덱스을 k에 담는다. \n",
    "print(\"정확도\", max_acc, \"으로 최적의 k는\", k+1, \"입니다\")\n",
    "# K을 +1하는 이유는 k는 인덱스이기 때문에 +1을 한다."
   ]
  },
  {
   "cell_type": "code",
   "execution_count": null,
   "id": "bb6c8148-b082-4823-8123-11b0435a29a0",
   "metadata": {},
   "outputs": [],
   "source": []
  }
 ],
 "metadata": {
  "kernelspec": {
   "display_name": "Python 3 (ipykernel)",
   "language": "python",
   "name": "python3"
  },
  "language_info": {
   "codemirror_mode": {
    "name": "ipython",
    "version": 3
   },
   "file_extension": ".py",
   "mimetype": "text/x-python",
   "name": "python",
   "nbconvert_exporter": "python",
   "pygments_lexer": "ipython3",
   "version": "3.10.9"
  }
 },
 "nbformat": 4,
 "nbformat_minor": 5
}
