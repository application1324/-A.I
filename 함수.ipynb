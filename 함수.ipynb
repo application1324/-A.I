{
  "nbformat": 4,
  "nbformat_minor": 0,
  "metadata": {
    "colab": {
      "provenance": [],
      "authorship_tag": "ABX9TyM0LsLLJmcpXPJeDlFxfvy4",
      "include_colab_link": true
    },
    "kernelspec": {
      "name": "python3",
      "display_name": "Python 3"
    },
    "language_info": {
      "name": "python"
    }
  },
  "cells": [
    {
      "cell_type": "markdown",
      "metadata": {
        "id": "view-in-github",
        "colab_type": "text"
      },
      "source": [
        "<a href=\"https://colab.research.google.com/github/application1324/-A.I/blob/main/%ED%95%A8%EC%88%98.ipynb\" target=\"_parent\"><img src=\"https://colab.research.google.com/assets/colab-badge.svg\" alt=\"Open In Colab\"/></a>"
      ]
    },
    {
      "cell_type": "code",
      "execution_count": null,
      "metadata": {
        "id": "L4xJMfBhut_q"
      },
      "outputs": [],
      "source": [
        "# f(x) 함수\n",
        "\n",
        "# f는 function의 약자이다.\n",
        "\n",
        "#파이썬 함수는 def로 선언함 => def 이름(): 들어쓰기 주의\n",
        "#함수을 사용하는 이유는 재사용을 할수있고 읽기 편해짐\n",
        "\n",
        "#변수 함수이름 짓는법\n",
        "# printMyName 카펠식\n",
        "# print_my_name 스네이크식\n",
        "\n",
        "#기능 만들기\n",
        "def print_my_name():\n",
        "  print(\"나는 홍길동입니다.\")\n",
        "  print(\"반갑습니다.\")\n",
        "  #이름 하나 때문에 기능을 하나 만들어야 할까?\n",
        "\n",
        "#기능+변수 만들기\n",
        "def print_my_name1(name):\n",
        "  print(f\"나는 {name}입니다.\") #()안에 정보을 입력할때 장점: 사용함 가독성이 높아짐\n",
        "  print(\"반갑습니다.\")\n",
        "\n",
        "#기능+여러변수 만들기\n",
        "def print_my_name2(name, age):\n",
        "  print(f\"나는 {name}입니다.\") \n",
        "  print(f\"나는 {age}살입니다.\")\n",
        "  print(\"반갑습니다.\")\n",
        "\n",
        "#이런식으로 함수실행\n",
        "print_my_name()\n",
        "\n",
        "#이런식으로 함수실행1\n",
        "print_my_name1(\"유호진\")\n",
        "print_my_name2(name=\"유호진\", age=17)\n",
        "print_my_name2(age=10,name=\"고양이\") #바뀌어도 오류 아님\n",
        "\n",
        "\n",
        "\n",
        "\n"
      ]
    },
    {
      "cell_type": "code",
      "source": [
        "# f(x) 함수 + 함수\n",
        "\n",
        "# f는 function의 약자이다.\n",
        "\n",
        "#파이썬 함수는 def로 선언함 => def 이름():\n",
        "#함수을 사용하는 이유는 재사용을 할수있고 읽기 편해짐\n",
        "\n",
        "def hello():\n",
        "  print(\"반갑습니다.\")\n",
        "\n",
        "#기능+여러변수 만들기\n",
        "def print_my_name(name,age): # name, age => 매개변수(파라미터, 인지)\n",
        "  print(f\"나는 {name}입니다.\") \n",
        "  print(f\"나는 {age}살입니다.\")\n",
        "  hello() #밖에 만든 변수을 사용할수 있음 찾아와 출력함 사용하는 함수는 위에 있어야함\n",
        "#for i in range(10):\n",
        " # print_my_name(\"고양이\",1000) #계산을 하기위해서는 따옴표을 쓰면 안됨\n",
        "  #() 중요함\n",
        "\n",
        "print_my_name(name=\"유호진\", age=17)\n",
        "print_my_name(age=10,name=\"고양이\") #바뀌어도 오류 아님\n",
        "\n",
        "# 파이썬은 위에서 부터 컴파일하기 때문에 \n",
        "# 어떠한 함수을 실행하거나 \n",
        "# 어떠한 함수을 함수에 추가하고 싶다면 실행하거나 추가할 함수가 위에 있어야 한다.\n",
        "\n",
        "\n"
      ],
      "metadata": {
        "id": "505_nc7N0bdR"
      },
      "execution_count": null,
      "outputs": []
    },
    {
      "cell_type": "code",
      "source": [
        "#f(x) 정보 내보내기\n",
        "def sum(a, b):\n",
        "  result = a + b #이 함수에서만 사용하는 식임 return을 사용하지 않은 변수는 사라짐\n",
        "  return result #return에 지정한 변수인 result의 값을 내보내기 위해 사용\n",
        "def sum(a,b):\n",
        "  return a + b #식을 내보낼수있음\n",
        "\n",
        "res = sum(1,2) #sum는 식을 저장한 값이기 때문에 변수에 값을 저장해주어야 한다.\n",
        "print(res)\n",
        "\n"
      ],
      "metadata": {
        "id": "kpTdCIlB74qI"
      },
      "execution_count": null,
      "outputs": []
    },
    {
      "cell_type": "code",
      "source": [
        "from traitlets import validate\n",
        "# 최대값 최소값 찾기\n",
        "\n",
        "# def find_value(mylist): #mylist는 배열이라고 가정(배열 제공)\n",
        "#   max = -1\n",
        "#   for i in mylist:\n",
        "#     if max < i:\n",
        "#       max = i\n",
        "#   print(max)\n",
        "\n",
        "# list = [4,3,1,7,5,8]\n",
        "# find_value(list)\n",
        "\n",
        "# list1 =  [41,3,4,5,66,54,3,1,7,5,8]\n",
        "# find_value(list1)\n",
        "\n",
        "# def find_small(mylist):\n",
        "#   min = 100\n",
        "#   for i in mylist: #반복문에 배열을 넣는다면 넣은 배열의 수을 차례대로 출력한다.\n",
        "#     if min > i:\n",
        "#       min = i\n",
        "  # print(min) 변형 불가\n",
        "\n",
        "# limim = [4,3,1,7,5,8]\n",
        "# find_small(limim)\n",
        "\n",
        "# 비슷한 기능 합치기\n",
        "\n",
        "def find_value(mylist, type):#mylist는 배열이라고 생각하고 작성\n",
        "    if type == 'max':  #최대값 모드에서는  -1  최소값 모드에서는 100\n",
        "        val = -1\n",
        "    else:\n",
        "        val = 100\n",
        "    for k in mylist:\n",
        "        if (type == 'max' and val < k) or (type == 'min' and val > k):\n",
        "            val = k #아니면 다시 돌아가고 맞다면 이 코드가 샐행 된다.\n",
        "\n",
        "    return val    \n",
        "    #return => 돌려주다 => 함수가 종료되고 값을 남기고 떠남\n",
        "    \n",
        "        # if type == 'max': #최대값모드일때\n",
        "        #     if val < k:\n",
        "        #         val = k\n",
        "        # else: #최소값 모드일때\n",
        "        #     if val > k:\n",
        "        #         val = k\n",
        "    \n",
        "    \n",
        "list = [4,3,1,7,5,8]\n",
        "#배열의 최대값과 최소값의 합을 출력하시오.\n",
        "max = find_value(mylist = list, type=\"max\") #ctrl + space는 자동완성\n",
        "min = find_value(list, 'min')\n",
        "print(max+min)\n",
        "\n",
        " \n",
        "\n",
        "\n"
      ],
      "metadata": {
        "id": "UjZS403x0E94"
      },
      "execution_count": null,
      "outputs": []
    },
    {
      "cell_type": "code",
      "source": [
        "#fibo\n",
        "\n",
        "n = int(input())\n",
        "\n",
        "def fibo(n):\n",
        "    if n == 1 or n == 2: \n",
        "        return 1\n",
        "    else: \n",
        "        return fibo(n-1) + fibo(n-2)\n",
        "\n",
        "print( fibo(n))\n"
      ],
      "metadata": {
        "id": "U3E0YPYgEits"
      },
      "execution_count": null,
      "outputs": []
    },
    {
      "cell_type": "code",
      "source": [
        "from os import truncate\n",
        "#함수는 기능 덩어리다\n",
        "\n",
        "#함수을 사용하는 이유\n",
        "\n",
        "#함수 사용이유1\n",
        "  # 관리가 편하다\n",
        "\n",
        "#함수 사용이유2\n",
        "  #어떠한 것을 변경할때 변경하기 쉽다\n",
        "\n",
        "\n",
        "#주어진 문자열에 특정 단어가 포함되었는지 찾는 함수\n",
        "#예 -  hello world에서 'e'가 포함 되었나??\n",
        "\n",
        "# str = 'hello world' # 문자열은 배열처럼 사용가능\n",
        "# keyWord = input()\n",
        "\n",
        "# for i in range(len(str)):\n",
        "#   if(str[i] == keyWord):\n",
        "#     print(str[i])\n",
        "  \n",
        "\n",
        "def keyWord_Find(str,keyWord):\n",
        "  for i in range(len(str)):\n",
        "    if(str[i] == keyWord):\n",
        "      return True\n",
        "      # return는 break과 같은 것이다.\n",
        "      # return이 실행 된다면 바로 멈춘다.\n",
        "  return False\n",
        "  # 반복문 안에는 if문이 끝났다는것은 문자을 찾지 못했다는 것이기 때문에 \n",
        "  # for문의 밖에 있는 return이 실행된다\n",
        "\n",
        "str = input()\n",
        "keyWord = input()\n",
        "\n",
        "print(keyWord_Find(str=str,keyWord=keyWord))\n",
        "# 위와 같이 출력하는것은 어떠한 것을 입력할것인지을 알려주고 있기 때문에 \n",
        "# 위치가 바뀌어도 된다.\n"
      ],
      "metadata": {
        "id": "OIaFdXja7UJO"
      },
      "execution_count": null,
      "outputs": []
    },
    {
      "cell_type": "code",
      "source": [
        "#최대값 찾기, 최소값 찾기\n",
        "#사용자가 입력을 1,2,3,4,6,7 의 형태로\n",
        "#숫자와 쉼표만 있음. 공백없음\n",
        "#이중 최대 숫자를 찾는 프로그램을 만들자\n",
        "#대신 모든숫자는 0이상 100이하\n",
        "\n",
        "# 1,2,3,4,6,7은 문자열과 같이 있기 때문에 문자열로 받아야 한다.\n",
        "\n",
        "# 길이가 변할수 있다. -> list을 쓴다 list는 길이을 정해 쓰지 않는다\n",
        "\n",
        "\n",
        "# num = '1,2,3,4,5,6'\n",
        "# num_array = num.split(',') #array = 배열 \n",
        "# #문자열 배열로 변환\n",
        "\n",
        "# #숫자 배열로 변환\n",
        "# num_int = list(map(int, num_array))\n",
        "# print(num_int[0]+1)  #1+1 = 2?\n",
        "\n",
        "\n",
        "num = input()\n",
        "num_array = num.split(\",\")\n",
        "\n",
        "num_int = map(int, num_array)\n",
        "\n",
        "\n",
        "min_max = -1\n",
        "for i in num_int:\n",
        "    if i > min_max:\n",
        "        min_max = i\n",
        "\n",
        "print(min_max)\n",
        "\n",
        "\n",
        "\n",
        "  "
      ],
      "metadata": {
        "id": "lP0YUsAv-fB6"
      },
      "execution_count": null,
      "outputs": []
    },
    {
      "cell_type": "code",
      "source": [
        "def str_to_num(input_str, spliter):\n",
        "    num = list(map(int, input_str.split(spliter)))\n",
        "    return num\n",
        "\n",
        "def find_min_max(num_arr, min_or_max):\n",
        "    if min_or_max == \"max\":\n",
        "        min_max = -1\n",
        "    else:\n",
        "        min_max = 101\n",
        "\n",
        "    for i in num_arr:\n",
        "        if (min_or_max == 'max' and i > min_max) or (min_or_max != 'max' and i < min_max):\n",
        "            min_max = i\n",
        "    return min_max\n",
        "\n",
        "input_str = input(\"Enter a string of numbers separated by commas: \")\n",
        "num = str_to_num(input_str, ',')\n",
        "min_max = find_min_max(num, 'max')  # Pass both arguments to find_max_min function\n",
        "print(min_max)\n"
      ],
      "metadata": {
        "id": "Y3ns33N8MP50"
      },
      "execution_count": null,
      "outputs": []
    },
    {
      "cell_type": "code",
      "source": [
        "# DNA = ATCG\n",
        "# RNA = UAGC\n",
        "\n",
        "# 입력된 값은 DNA의 염기서열이다\n",
        "# 입력된 값을 RNA의 염기서열로 바꾸어야 한다.\n",
        "\n",
        "DNA = 'ATCGGCTA'\n",
        "for i in range(len(DNA)): #DNA의 길이 만큼 반복함\n",
        "  if(DNA[i] == 'A'): #DNA배열 중에 A가 있는지\n",
        "    print('U',end=\"\") # end는 끝이 난다면 어떻게 할것인지을 알려주는 명령어이다.\n",
        "  elif(DNA[i] == 'T'): #DNA배열 중에 T가 있는지\n",
        "    print('A',end=\"\")\n",
        "  elif(DNA[i] == 'C'): #DNA배열 중에 C가 있는지\n",
        "    print('G',end=\"\")\n",
        "  else: #DNA배열 중에 위와 다른 염기가 있는지\n",
        "    print('C',end=\"\")"
      ],
      "metadata": {
        "id": "R6ffDXuGj4D5"
      },
      "execution_count": null,
      "outputs": []
    },
    {
      "cell_type": "code",
      "source": [
        "# dna위치를 차장서 rna위치를 반환\n",
        "def trnas(pos):\n",
        "  rna_src = 'UAGC' #변환할 문자\n",
        "  return rna_src[pos] #변환할 문자 반환 \n",
        "\n",
        "DNA = 'ATCGGCTA' #주어진 값\n",
        "dna_src = 'ATCG' #변경할 값\n",
        "\n",
        "for i in range(len(DNA)): #반복문\n",
        "  seach_pos = dna_src.find(DNA[i])\n",
        "  #find라는 매서드는 어떠한 문자가 주어졌을때\n",
        "  #있는 문자의 인덱스로 반환한다.\n",
        "  print(trnas(seach_pos),end='')\n",
        "\n",
        " "
      ],
      "metadata": {
        "id": "z5N7I9QOpbCp"
      },
      "execution_count": null,
      "outputs": []
    },
    {
      "cell_type": "code",
      "source": [
        "def trnas(pos):\n",
        "  rna_src = 'UAGC'\n",
        "  return rna_src[pos]\n",
        "\n",
        "DNA = input()\n",
        "dna_src = 'ATCG'\n",
        "\n",
        "for i in range(len(DNA)):\n",
        "  seach_pos = dna_src.find(DNA[i])\n",
        "  print(trnas(seach_pos),end='')"
      ],
      "metadata": {
        "id": "P-87VXdosXQn"
      },
      "execution_count": null,
      "outputs": []
    }
  ]
}